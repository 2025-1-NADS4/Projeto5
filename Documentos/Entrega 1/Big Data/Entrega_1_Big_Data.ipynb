{
  "nbformat": 4,
  "nbformat_minor": 0,
  "metadata": {
    "colab": {
      "provenance": []
    },
    "kernelspec": {
      "name": "python3",
      "display_name": "Python 3"
    },
    "language_info": {
      "name": "python"
    }
  },
  "cells": [
    {
      "cell_type": "markdown",
      "source": [
        "#Entrega 1 - Big Data\n",
        "###Emilly Mickeli Depine da Silva 23025480\n",
        "###Renan Teixeira Pinheiro 23025274\n",
        "###Gustavo Henrique Santos Araujo 23025397\n",
        "###Fernando José dos Santos 23025299"
      ],
      "metadata": {
        "id": "It5qJslTrTUU"
      }
    },
    {
      "cell_type": "code",
      "execution_count": null,
      "metadata": {
        "id": "aNBP03sR7Suc"
      },
      "outputs": [],
      "source": [
        "import pandas as pd\n",
        "import numpy as np\n",
        "import matplotlib.pyplot as plt\n",
        "import seaborn as sns\n",
        "import csv"
      ]
    },
    {
      "cell_type": "code",
      "source": [
        "# Integrando o Colab com o meu Drive para possibilitar a leitura dos arquivos de qualquer dispositivo\n",
        "caminho_dados = '/content/drive/MyDrive/BaseDadosUber/'\n",
        "\n",
        "# Lendo os arquivos e definindo o separador padrão como ponto e virgula, para não confundir as virgulas com separadores\n",
        "product_df = pd.read_csv(caminho_dados + 'product.csv', sep=';')\n",
        "ride_v2_df = pd.read_csv(caminho_dados + 'ride_v2.csv', sep=';')\n",
        "rideaddress_v1_df = pd.read_csv(caminho_dados + 'rideaddress_v1.csv', sep=';')\n",
        "rideestimative_v3_df = pd.read_csv(caminho_dados + 'rideestimative_v3.csv', sep=';')"
      ],
      "metadata": {
        "colab": {
          "base_uri": "https://localhost:8080/"
        },
        "id": "Bv2NtfMQg44C",
        "outputId": "24168127-f29a-4ed8-a0ee-97c840f5e6d6"
      },
      "execution_count": null,
      "outputs": [
        {
          "output_type": "stream",
          "name": "stderr",
          "text": [
            "<ipython-input-7-5de2d7ce2e12>:12: DtypeWarning: Columns (7,8) have mixed types. Specify dtype option on import or set low_memory=False.\n",
            "  rideaddress_v1_df = pd.read_csv(caminho_dados + 'rideaddress_v1.csv', sep=';')\n"
          ]
        }
      ]
    },
    {
      "cell_type": "code",
      "source": [
        "# Somando quantas entradas cada coluna tem\n",
        "print(\"\\nDescrição do product.csv:\")\n",
        "print(product_df.describe().loc[['count']])\n",
        "\n",
        "print(\"\\nDescrição do ride_v2.csv:\")\n",
        "print(ride_v2_df.describe().loc[['count']])\n",
        "\n",
        "print(\"\\nDescrição do rideaddress_v1.csv:\")\n",
        "print(rideaddress_v1_df.describe().loc[['count']])\n",
        "\n",
        "print(\"\\nDescrição do rideestimative_v3.csv:\")\n",
        "print(rideestimative_v3_df.describe().loc[['count']])"
      ],
      "metadata": {
        "colab": {
          "base_uri": "https://localhost:8080/"
        },
        "id": "LVVCcbpijtAa",
        "outputId": "de5463c7-e519-4b92-85d6-cee4a0f184f0"
      },
      "execution_count": null,
      "outputs": [
        {
          "output_type": "stream",
          "name": "stdout",
          "text": [
            "\n",
            "Descrição do product.csv:\n",
            "       ProviderID  CategoryID\n",
            "count       237.0       237.0\n",
            "\n",
            "Descrição do ride_v2.csv:\n",
            "         RideID  RideStatusID  CompanyID  ProviderID     price  CategoryID  \\\n",
            "count  500000.0      500000.0   500000.0    228157.0  500000.0     24714.0   \n",
            "\n",
            "       TotalUsers  RideDriverLocationID  ScheduledRide  \n",
            "count    500000.0               14864.0       500000.0  \n",
            "\n",
            "Descrição do rideaddress_v1.csv:\n",
            "       RideAddressID  RideAddressTypeID     RideID\n",
            "count      1000000.0          1000000.0  1000000.0\n",
            "\n",
            "Descrição do rideestimative_v3.csv:\n",
            "       RideEstimativeID     RideID  WaitingTime      Price   Selected  \\\n",
            "count         2000000.0  2000000.0    2000000.0  2000000.0  2000000.0   \n",
            "\n",
            "       RideReasonSelectedEstimativeID        Fee  \n",
            "count                        234021.0  2000000.0  \n"
          ]
        }
      ]
    },
    {
      "cell_type": "code",
      "source": [
        "# Informações sobre os tipos de dados e valores não nulos\n",
        "print(\"\\nInformações sobre o product.csv:\")\n",
        "print(product_df.info())\n",
        "\n",
        "print(\"\\nInformações sobre o ride_v2.csv:\")\n",
        "print(ride_v2_df.info())\n",
        "\n",
        "print(\"\\nInformações sobre o rideaddress_v1.csv:\")\n",
        "print(rideaddress_v1_df.info())\n",
        "\n",
        "print(\"\\nInformações sobre o rideestimative_v3.csv:\")\n",
        "print(rideestimative_v3_df.info())\n",
        "\n",
        "# Contagem de valores ausentes por coluna\n",
        "print(\"\\nValores ausentes em product.csv:\")\n",
        "print(product_df.isnull().sum())\n",
        "\n",
        "print(\"\\nValores ausentes em ride_v2.csv:\")\n",
        "print(ride_v2_df.isnull().sum())\n",
        "\n",
        "print(\"\\nValores ausentes em rideaddress_v1.csv:\")\n",
        "print(rideaddress_v1_df.isnull().sum())\n",
        "\n",
        "print(\"\\nValores ausentes em rideestimative_v3.csv:\")\n",
        "print(rideestimative_v3_df.isnull().sum())"
      ],
      "metadata": {
        "colab": {
          "base_uri": "https://localhost:8080/"
        },
        "id": "s45VmIMNk65d",
        "outputId": "9ece32b1-917b-4f08-ba81-43d27f6dee31"
      },
      "execution_count": null,
      "outputs": [
        {
          "output_type": "stream",
          "name": "stdout",
          "text": [
            "\n",
            "Informações sobre o product.csv:\n",
            "<class 'pandas.core.frame.DataFrame'>\n",
            "RangeIndex: 237 entries, 0 to 236\n",
            "Data columns (total 4 columns):\n",
            " #   Column       Non-Null Count  Dtype \n",
            "---  ------       --------------  ----- \n",
            " 0   ProductID    237 non-null    object\n",
            " 1   ProviderID   237 non-null    int64 \n",
            " 2   CategoryID   237 non-null    int64 \n",
            " 3   Description  237 non-null    object\n",
            "dtypes: int64(2), object(2)\n",
            "memory usage: 7.5+ KB\n",
            "None\n",
            "\n",
            "Informações sobre o ride_v2.csv:\n",
            "<class 'pandas.core.frame.DataFrame'>\n",
            "RangeIndex: 500000 entries, 0 to 499999\n",
            "Data columns (total 15 columns):\n",
            " #   Column                Non-Null Count   Dtype  \n",
            "---  ------                --------------   -----  \n",
            " 0   RideID                500000 non-null  int64  \n",
            " 1   UserID                500000 non-null  object \n",
            " 2   Schedule              500000 non-null  object \n",
            " 3   Create                500000 non-null  object \n",
            " 4   RideStatusID          500000 non-null  int64  \n",
            " 5   CompanyID             500000 non-null  int64  \n",
            " 6   ProviderID            228157 non-null  float64\n",
            " 7   RideProviderID        21440 non-null   object \n",
            " 8   price                 500000 non-null  float64\n",
            " 9   Updated               500000 non-null  object \n",
            " 10  CategoryID            24714 non-null   float64\n",
            " 11  TotalUsers            500000 non-null  int64  \n",
            " 12  Car                   14944 non-null   object \n",
            " 13  RideDriverLocationID  14864 non-null   float64\n",
            " 14  ScheduledRide         500000 non-null  int64  \n",
            "dtypes: float64(4), int64(5), object(6)\n",
            "memory usage: 57.2+ MB\n",
            "None\n",
            "\n",
            "Informações sobre o rideaddress_v1.csv:\n",
            "<class 'pandas.core.frame.DataFrame'>\n",
            "RangeIndex: 1000000 entries, 0 to 999999\n",
            "Data columns (total 11 columns):\n",
            " #   Column             Non-Null Count    Dtype \n",
            "---  ------             --------------    ----- \n",
            " 0   RideAddressID      1000000 non-null  int64 \n",
            " 1   Address            1000000 non-null  object\n",
            " 2   Street             998103 non-null   object\n",
            " 3   Number             784370 non-null   object\n",
            " 4   Neighborhood       410032 non-null   object\n",
            " 5   City               617798 non-null   object\n",
            " 6   State              768544 non-null   object\n",
            " 7   Lat                1000000 non-null  object\n",
            " 8   Lng                1000000 non-null  object\n",
            " 9   RideAddressTypeID  1000000 non-null  int64 \n",
            " 10  RideID             1000000 non-null  int64 \n",
            "dtypes: int64(3), object(8)\n",
            "memory usage: 83.9+ MB\n",
            "None\n",
            "\n",
            "Informações sobre o rideestimative_v3.csv:\n",
            "<class 'pandas.core.frame.DataFrame'>\n",
            "RangeIndex: 2000000 entries, 0 to 1999999\n",
            "Data columns (total 9 columns):\n",
            " #   Column                          Dtype  \n",
            "---  ------                          -----  \n",
            " 0   RideEstimativeID                int64  \n",
            " 1   RideID                          int64  \n",
            " 2   ProductID                       object \n",
            " 3   WaitingTime                     int64  \n",
            " 4   Price                           float64\n",
            " 5   FareID                          object \n",
            " 6   Selected                        int64  \n",
            " 7   RideReasonSelectedEstimativeID  float64\n",
            " 8   Fee                             float64\n",
            "dtypes: float64(3), int64(4), object(2)\n",
            "memory usage: 137.3+ MB\n",
            "None\n",
            "\n",
            "Valores ausentes em product.csv:\n",
            "ProductID      0\n",
            "ProviderID     0\n",
            "CategoryID     0\n",
            "Description    0\n",
            "dtype: int64\n",
            "\n",
            "Valores ausentes em ride_v2.csv:\n",
            "RideID                       0\n",
            "UserID                       0\n",
            "Schedule                     0\n",
            "Create                       0\n",
            "RideStatusID                 0\n",
            "CompanyID                    0\n",
            "ProviderID              271843\n",
            "RideProviderID          478560\n",
            "price                        0\n",
            "Updated                      0\n",
            "CategoryID              475286\n",
            "TotalUsers                   0\n",
            "Car                     485056\n",
            "RideDriverLocationID    485136\n",
            "ScheduledRide                0\n",
            "dtype: int64\n",
            "\n",
            "Valores ausentes em rideaddress_v1.csv:\n",
            "RideAddressID             0\n",
            "Address                   0\n",
            "Street                 1897\n",
            "Number               215630\n",
            "Neighborhood         589968\n",
            "City                 382202\n",
            "State                231456\n",
            "Lat                       0\n",
            "Lng                       0\n",
            "RideAddressTypeID         0\n",
            "RideID                    0\n",
            "dtype: int64\n",
            "\n",
            "Valores ausentes em rideestimative_v3.csv:\n",
            "RideEstimativeID                        0\n",
            "RideID                                  0\n",
            "ProductID                               0\n",
            "WaitingTime                             0\n",
            "Price                                   0\n",
            "FareID                             818225\n",
            "Selected                                0\n",
            "RideReasonSelectedEstimativeID    1765979\n",
            "Fee                                     0\n",
            "dtype: int64\n"
          ]
        }
      ]
    },
    {
      "cell_type": "code",
      "source": [
        "# Verificação de valores duplicados\n",
        "print(\"\\nValores duplicados em product.csv:\")\n",
        "print(product_df.duplicated().sum())\n",
        "\n",
        "print(\"\\nValores duplicados em ride_v2.csv:\")\n",
        "print(ride_v2_df.duplicated().sum())\n",
        "\n",
        "print(\"\\nValores duplicados em rideaddress_v1.csv:\")\n",
        "print(rideaddress_v1_df.duplicated().sum())\n",
        "\n",
        "print(\"\\nValores duplicados em rideestimative_v3.csv:\")\n",
        "print(rideestimative_v3_df.duplicated().sum())\n",
        "\n",
        "# Verificação de valores únicos em colunas importantes (ex: id)\n",
        "print(\"\\nValores únicos em 'product_id' de product.csv:\")\n",
        "print(product_df['ProductID'].nunique())\n",
        "\n",
        "print(\"\\nValores únicos em 'ride_id' de ride_v2.csv:\")\n",
        "print(ride_v2_df['RideID'].nunique())\n",
        "\n",
        "# Produto mais usado em product.csv\n",
        "produto_mais_usado_product = product_df['ProductID'].mode()[0]\n",
        "contagem_produto_mais_usado_product = product_df['ProductID'].value_counts()[produto_mais_usado_product]\n",
        "\n",
        "# CompanyID mais usada em ride_v2\n",
        "company_mais_usada = ride_v2_df['CompanyID'].mode()[0]\n",
        "contagem_company_mais_usada = ride_v2_df['CompanyID'].value_counts()[company_mais_usada]\n",
        "print(f\"\\nA CompanyID mais usada em ride_v2 é '{company_mais_usada}', usada {contagem_company_mais_usada} vezes.\")\n",
        "\n",
        "#Contagem de preços zero em ride_v2\n",
        "contagem_precos_zero = (ride_v2_df['price'] == 0).sum()\n",
        "print(f\"\\nExistem {contagem_precos_zero} corridas com preço zero em ride_v2.\")\n",
        "\n",
        "# Produto mais usado em rideestimative_v3\n",
        "produto_mais_usado = rideestimative_v3_df['ProductID'].mode()[0]\n",
        "contagem_produto_mais_usado = rideestimative_v3_df['ProductID'].value_counts()[produto_mais_usado]\n",
        "print(f\"\\nO ProductID mais usado em rideestimative_v3 é '{produto_mais_usado}', usado {contagem_produto_mais_usado} vezes.\")\n",
        "\n",
        "#Cidade mais frequente em rideaddress_v1\n",
        "cidade_mais_frequente = rideaddress_v1_df['City'].mode()[0]\n",
        "contagem_cidade_mais_frequente = rideaddress_v1_df['City'].value_counts()[cidade_mais_frequente]\n",
        "print(f\"\\nA cidade mais frequente em rideaddress_v1 é '{cidade_mais_frequente}', que aparece {contagem_cidade_mais_frequente} vezes.\")"
      ],
      "metadata": {
        "colab": {
          "base_uri": "https://localhost:8080/"
        },
        "id": "b7rwhku-l7U4",
        "outputId": "49b91206-9a18-4ef8-b40e-9d41d33b1276"
      },
      "execution_count": null,
      "outputs": [
        {
          "output_type": "stream",
          "name": "stdout",
          "text": [
            "\n",
            "Valores duplicados em product.csv:\n",
            "0\n",
            "\n",
            "Valores duplicados em ride_v2.csv:\n",
            "0\n",
            "\n",
            "Valores duplicados em rideaddress_v1.csv:\n",
            "0\n",
            "\n",
            "Valores duplicados em rideestimative_v3.csv:\n",
            "0\n",
            "\n",
            "Valores únicos em 'product_id' de product.csv:\n",
            "236\n",
            "\n",
            "Valores únicos em 'ride_id' de ride_v2.csv:\n",
            "500000\n",
            "\n",
            "A CompanyID mais usada em ride_v2 é '40', usada 144654 vezes.\n",
            "\n",
            "Existem 26630 corridas com preço zero em ride_v2.\n",
            "\n",
            "O ProductID mais usado em rideestimative_v3 é 'UberX', usado 235734 vezes.\n",
            "\n",
            "A cidade mais frequente em rideaddress_v1 é 'São Paulo', que aparece 127724 vezes.\n"
          ]
        }
      ]
    },
    {
      "cell_type": "markdown",
      "source": [
        "#**Outras conclusões e inferências**"
      ],
      "metadata": {
        "id": "JoVPA2d5y5kV"
      }
    },
    {
      "cell_type": "markdown",
      "source": [
        "#**Planilha ride_v2.csv**\n",
        "*   Existem 500.000 registros de corridas.\n",
        "*   Os RideIDs seguem uma faixa numérica específica, o que é esperado para identificadores únicos.\n",
        "*  As CompanyIDs variam amplamente (de 1 a 292), sugerindo que várias empresas estão envolvidas.\n",
        "* A contagem de ProviderID é menor que a contagem total de corridas, o que significa que nem todas as corridas têm um ProviderID associado. Isso pode indicar valores ausentes ou corridas que não se aplicam a um provedor específico.\n",
        "* Os preços das corridas variam muito (de 0 a 15254.80), com um desvio padrão alto.\n",
        "* Existem 26630 corridas com preço 0, o que sugere a quantidade de corridas canceladas ou reembolsadas\n",
        "* A maioria das corridas tem apenas um usuário (a mediana é 1), mas existem corridas com até 4 usuários\n",
        "* A grande maioria das corridas não é agendada (a mediana é 0)\n"
      ],
      "metadata": {
        "id": "FRJ1mgntvlFj"
      }
    },
    {
      "cell_type": "markdown",
      "source": [
        "##**Planilha rideaddress_v1.csv:**\n",
        "* Existem 1.000.000 registros de endereços de corrida.\n",
        "* RideAddressTypeID varia entre 1 e 2, provavelmente indicando tipos de endereços (origem e destino, por exemplo).\n",
        "* Os RideID dessa tabela, correspondem aos RideID da tabela ride_v2.\n",
        "* Os Id's de ambas as colunas Id, seguem uma distribuição uniforme."
      ],
      "metadata": {
        "id": "gnCN6KIOy93O"
      }
    },
    {
      "cell_type": "markdown",
      "source": [
        "##**Planilha rideestimative_v3.csv**\n",
        "* Existem 2.000.000 estimativas de corrida.\n",
        "* Os RideID dessa tabela, correspondem aos RideID da tabela ride_v2\n",
        "* O tempo de espera médio é de aproximadamente 6 minutos, com uma variação relativamente pequena."
      ],
      "metadata": {
        "id": "trhHfH1SzZC3"
      }
    }
  ]
}